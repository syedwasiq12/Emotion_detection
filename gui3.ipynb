{
 "cells": [
  {
   "cell_type": "code",
   "execution_count": 18,
   "id": "d385e9ec-900a-41e0-b66e-eb141932b8c4",
   "metadata": {},
   "outputs": [],
   "source": [
    "import tkinter as tk\n",
    "from tkinter import filedialog\n",
    "from tkinter import *\n",
    "from sklearn import metrics\n",
    "from tensorflow.keras.models import model_from_json\n",
    "from PIL import Image, ImageTk\n",
    "import numpy as np \n",
    "import cv2 as cv2"
   ]
  },
  {
   "cell_type": "code",
   "execution_count": 19,
   "id": "a8fb574a-94b3-426d-9456-720245a8b45e",
   "metadata": {},
   "outputs": [],
   "source": [
    "def FacialExpressionModel(json_file,weights_file):\n",
    "    with open(json_file,\"r\") as file:\n",
    "        loaded_model_json= file.read()\n",
    "        model=model_from_json(loaded_model_json)\n",
    "    model.load_weights(weights_file)\n",
    "    model.compile(optimizer=\"adam\",loss=\"categorical_crossentropy\",metrics=[\"accuracy\"])\n",
    "    return model"
   ]
  },
  {
   "cell_type": "code",
   "execution_count": 20,
   "id": "dd41ee04-09ff-4fcf-9731-41f3241dcd80",
   "metadata": {},
   "outputs": [],
   "source": [
    "top=tk.Tk()\n",
    "top.geometry('800x600')\n",
    "top.title(\"Emotion Detector\")\n",
    "top.configure(background='#CDCDCD')\n",
    "label1=Label(top,background='#CDCDCD',font=('arial',15,'bold'))\n",
    "sign_image=Label(top)\n",
    "facec=cv2.CascadeClassifier('haarcascade_frontalface_default.xml')\n",
    "model= FacialExpressionModel('model_a1.json','model_weights1.h5')\n",
    "EMOTIONS_LIST=[\"Angry\",\"Disgust\",\"Fear\",\"Happy\",\"Neutral\",\"Sad\",\"Surprise\"]\n",
    "def Detect(file_path):\n",
    "    global Label_packed\n",
    "    image=cv2.imread(file_path)\n",
    "    gray_image=cv2.cvtColor(image,cv2.COLOR_BGR2GRAY)\n",
    "    faces=facec.detectMultiScale(gray_image,1.3,5)\n",
    "    try:\n",
    "        for(x,y,w,h) in faces:\n",
    "            fc= gray_image[y:y+h,x:x+w]\n",
    "            roi=cv2.resize(fc,(48,48))\n",
    "            pred=EMOTIONS_LIST[np.argmax(model.predict(roi[np.newaxis,:,:,np.newaxis]))]\n",
    "            print(\"Predicted Emotion is\" + pred)\n",
    "            label1.configure(foreground=\"#011638\",text=pred)\n",
    "    except:\n",
    "        label1.configure(foreground=\"#011638\",text=\"Unable to detect\")"
   ]
  },
  {
   "cell_type": "code",
   "execution_count": 21,
   "id": "ec9dd240-a29b-4b5a-b857-5aa3f51eab9b",
   "metadata": {},
   "outputs": [],
   "source": [
    "def show_Detect_button(file_path):\n",
    "    detect_b=Button(top,text=\"Detect Emotion\",command=lambda: Detect(file_path),padx=10,pady=5)\n",
    "    detect_b.configure(background=\"#364156\",foreground='white',font=('arial',10,'bold'))\n",
    "    detect_b.place(relx=0.79,rely=0.46)"
   ]
  },
  {
   "cell_type": "code",
   "execution_count": 22,
   "id": "343e6f31-5d02-4f36-bb09-c28f45eed8d7",
   "metadata": {},
   "outputs": [],
   "source": [
    "def upload_image():\n",
    "    try:\n",
    "        file_path=filedialog.askopenfilename()\n",
    "        uploaded=Image.open(file_path)\n",
    "        uploaded.thumbnail(((top.winfo_width()/2.25),(top.winfo_height()/2.25)))\n",
    "        im=ImageTk.PhotoImage(uploaded)\n",
    "\n",
    "        sign_image.configure(image = im)\n",
    "        sign_image.image=im\n",
    "        label1.configure(text='')\n",
    "        show_Detect_button(file_path)\n",
    "    except:\n",
    "        pass"
   ]
  },
  {
   "cell_type": "code",
   "execution_count": null,
   "id": "bcfdd11d-e2e1-45b5-b5b2-86410596b8cd",
   "metadata": {},
   "outputs": [
    {
     "name": "stdout",
     "output_type": "stream",
     "text": [
      "1/1 [==============================] - 0s 238ms/step\n",
      "Predicted Emotion isHappy\n"
     ]
    }
   ],
   "source": [
    "upload= Button(top,text=\"Upload Image\",command=upload_image,padx=10,pady=5)\n",
    "upload.configure(background=\"#364156\",foreground='white',font=('arial',20,'bold'))\n",
    "upload.pack(side='bottom',pady=50)\n",
    "sign_image.pack(side='bottom',expand='True')\n",
    "label1.pack(side='bottom',expand='True')\n",
    "heading=Label(top,text='Emotion Detector',pady=20,font=('arial',25,'bold'))\n",
    "heading.configure(background='#CDCDCD',foreground='#364156')\n",
    "heading.pack()\n",
    "top.mainloop()"
   ]
  },
  {
   "cell_type": "code",
   "execution_count": null,
   "id": "b4f047c1-5d59-4085-ad1c-2eacf64964dc",
   "metadata": {},
   "outputs": [],
   "source": []
  }
 ],
 "metadata": {
  "kernelspec": {
   "display_name": "Python 3 (ipykernel)",
   "language": "python",
   "name": "python3"
  },
  "language_info": {
   "codemirror_mode": {
    "name": "ipython",
    "version": 3
   },
   "file_extension": ".py",
   "mimetype": "text/x-python",
   "name": "python",
   "nbconvert_exporter": "python",
   "pygments_lexer": "ipython3",
   "version": "3.10.13"
  }
 },
 "nbformat": 4,
 "nbformat_minor": 5
}
